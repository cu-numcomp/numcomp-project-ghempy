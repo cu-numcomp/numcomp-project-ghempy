{
 "cells": [
  {
   "cell_type": "markdown",
   "metadata": {},
   "source": [
    "# Project: **Singular Value Decomposition** in **Matrix**\n",
    "\n",
    "Matrix is a modern, C++ 20-native, single-file header-only dense 2D matrix library."
   ]
  },
  {
   "cell_type": "markdown",
   "metadata": {},
   "source": [
    "The following prompts may be useful, but you don't have to use them.\n",
    "## About the method\n",
    "\n",
    "How does the method relate to concepts we've covered in class. You're writing for your fellow classmates so try to make it understandable to them. Why is the method used in this context? Can you explain why it's preferred over some alternative in this context?\n",
    "\n",
    "The method relates to concepts that we have learned in class during our Linera Algebra unit. We specifically did talk about Singular Value Decomposition during this unit briefly, and I am including the snippet from our in class notebook we had for the Linear Algebra unit. In plain terms, the SVD of a matrix A for instance is equal to the factorization of the product of U and V (which are orthornormal), and sigma is a diagonal matrix with non-zero entries only. In the sigma matrix, there are x amount of entries where x is the rank. U and V represent directional vectors of A. In even simpler terms, the singular value decomposition is just nothing more than decopmposing vectors into their orthogonal axes. Not all singular value decompositions are unique, as there can be multiple decompositions of a matrix A. Each orthonormal base U and V can me multiplied by its transpose to get an identiy matrix.\n",
    "\n",
    "[Example from Class]!<https://coding.csel.io/user/gahe0404/files/Spring%202020/CSCI%203656/numcomp-project-ghempy/SVD1.PNG?_xsrf=2%7C3c2b5243%7C7baecac1f71df825abf967dd571610e5%7C1587234689>\n",
    "\n",
    "[Example from WikiPedia]!<https://coding.csel.io/user/gahe0404/files/Spring%202020/CSCI%203656/numcomp-project-ghempy/SVD2.PNG?_xsrf=2%7C3c2b5243%7C7baecac1f71df825abf967dd571610e5%7C1587234689>\n",
    "\n",
    "### Questions you have about the method\n",
    "\n",
    "* You can list questions you haven't been able to answer. Perhaps your peers will be able to help answer them. Jed will address some questions in class.\n",
    "\n",
    "What other real world applications are there for singular value decomposition besides image filtering? I feel that this library could be \n",
    "\n",
    "## About the software\n",
    "\n",
    "Link to the repository. What does the software package do (at a high level)? Who develops it? Who uses it? What language is it written in and what language(s) can it be called from? If there are figures of its architecture, use, or products (e.g., from the docs), you're welcome to include them here. \n",
    "\n",
    "Link to GitHub repository: https://github.com/fengwang/matrix\n",
    "\n",
    "The Matrix library allows users who import it to have a large variety of methods to approach calculations on matrices in C++. There are many many operations that are available in this library, however I am going to focus on singular value decomposition within this library. The SVD method can only be called in a C++ language, as this entire library is written to be an add-on to allow complex matrix calculations in software. Since the library is large, and it would be pointless to include the architecture here since it is in the readme of the library, I will not include a screenshot of it, just go the repository linked above and look through the readme. \n",
    "\n",
    "\n",
    "## Method as it appears in the software\n",
    "\n",
    "What role does the method play in the software? How does one call it (perhaps via a higher level interface that uses the method)? Are there particular performance concerns that went into its use? How expensive is it? Can you express performance in terms that are relevant to a user? How about accuracy, conditioning, or stability in the chosen formulation?\n",
    "\n",
    "Here is the link to singular value decomposition section in the library: https://github.com/fengwang/matrix#singular-value-decomposition\n",
    "\n",
    "In the software, it appears that singular value decomposition is used to apply filters to images. This makes sense because all iamges are essentially just 2D matrices containing value points of color and position. Decomposing the matrix also compresses the data when running calculations and we see our rank halved, even into a quarter. The performance is O(mn) where m and n are the dimenstions of matrix the we are trying to decompose. Overall the performacne is pretty expensive because the reconstructed image from SVD is claculated through matrix multiplication which has performance O(mn) since we have to visit every point in the matrix.\n",
    "\n",
    "### Open questions\n",
    "\n",
    "* Any open questions you would like to discuss or get help answering?\n",
    "\n",
    "Is there any way this library could be used with other langauges even through it is only in C++?\n",
    "\n",
    "Is this library useful to the average programmer? Why or why not?"
   ]
  },
  {
   "cell_type": "code",
   "execution_count": null,
   "metadata": {},
   "outputs": [],
   "source": []
  },
  {
   "cell_type": "code",
   "execution_count": null,
   "metadata": {},
   "outputs": [],
   "source": []
  }
 ],
 "metadata": {
  "kernelspec": {
   "display_name": "Python 3",
   "language": "python",
   "name": "python3"
  },
  "language_info": {
   "codemirror_mode": {
    "name": "ipython",
    "version": 3
   },
   "file_extension": ".py",
   "mimetype": "text/x-python",
   "name": "python",
   "nbconvert_exporter": "python",
   "pygments_lexer": "ipython3",
   "version": "3.7.3"
  }
 },
 "nbformat": 4,
 "nbformat_minor": 4
}
